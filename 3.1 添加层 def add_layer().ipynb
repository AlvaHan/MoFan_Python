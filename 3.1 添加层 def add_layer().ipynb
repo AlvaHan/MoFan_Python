{
 "cells": [
  {
   "cell_type": "code",
   "execution_count": 3,
   "metadata": {},
   "outputs": [],
   "source": [
    "import tensorflow as tf\n",
    "import numpy as np"
   ]
  },
  {
   "cell_type": "code",
   "execution_count": 4,
   "metadata": {
    "collapsed": true
   },
   "outputs": [],
   "source": [
    "#构造添加一个神经层的函数。\n",
    "def add_layer(inputs, in_size, out_size, activation_function=None):  \n",
    "    # 因为在生成初始参数时，随机变量(normal distribution)会比全部为0要好很多，所以我们这里的weights为一个in_size行, out_size列的随机变量矩阵。\n",
    "    Weights = tf.Variable(tf.random_normal([in_size, out_size]))\n",
    "    # 在机器学习中，biases的推荐值不为0，所以我们这里是在0向量的基础上又加了0.1。\n",
    "    biases = tf.Variable(tf.zeros([1, out_size]) + 0.1)\n",
    "    # 下面，我们定义Wx_plus_b, 即神经网络未激活的值。其中，tf.matmul()是矩阵的乘法。\n",
    "    Wx_plus_b = tf.matmul(inputs, Weights) + biases\n",
    "    # 当activation_function——激励函数为None时，输出就是当前的预测值——Wx_plus_b，不为None时，就把Wx_plus_b传到activation_function()函数中得到输出。\n",
    "    if activation_function is None:\n",
    "        outputs = Wx_plus_b\n",
    "    else:\n",
    "        outputs = activation_function(Wx_plus_b)\n",
    "    # 最后，返回输出，添加一个神经层的函数——def add_layer()就定义好了。\n",
    "    return outputs"
   ]
  }
 ],
 "metadata": {
  "kernelspec": {
   "display_name": "Python 3",
   "language": "python",
   "name": "python3"
  },
  "language_info": {
   "codemirror_mode": {
    "name": "ipython",
    "version": 3
   },
   "file_extension": ".py",
   "mimetype": "text/x-python",
   "name": "python",
   "nbconvert_exporter": "python",
   "pygments_lexer": "ipython3",
   "version": "3.5.3"
  }
 },
 "nbformat": 4,
 "nbformat_minor": 2
}
