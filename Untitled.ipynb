{
 "cells": [
  {
   "cell_type": "code",
   "execution_count": 2,
   "metadata": {},
   "outputs": [],
   "source": [
    "import tensorflow as tf\n",
    "import numpy as np\n",
    "import matplotlib.pyplot as plt"
   ]
  },
  {
   "cell_type": "code",
   "execution_count": 3,
   "metadata": {
    "collapsed": true
   },
   "outputs": [],
   "source": [
    "tf.set_random_seed(1)\n",
    "np.random.seed(1)"
   ]
  },
  {
   "cell_type": "code",
   "execution_count": 4,
   "metadata": {
    "collapsed": true
   },
   "outputs": [],
   "source": [
    "# Hyper parameters\n",
    "N_SAMPLES = 20\n",
    "N_HIDDEN = 300\n",
    "LR = 0.01"
   ]
  },
  {
   "cell_type": "code",
   "execution_count": 14,
   "metadata": {},
   "outputs": [
    {
     "name": "stdout",
     "output_type": "stream",
     "text": [
      "x: [[-1.        ]\n",
      " [-0.89473684]\n",
      " [-0.78947368]\n",
      " [-0.68421053]\n",
      " [-0.57894737]\n",
      " [-0.47368421]\n",
      " [-0.36842105]\n",
      " [-0.26315789]\n",
      " [-0.15789474]\n",
      " [-0.05263158]\n",
      " [ 0.05263158]\n",
      " [ 0.15789474]\n",
      " [ 0.26315789]\n",
      " [ 0.36842105]\n",
      " [ 0.47368421]\n",
      " [ 0.57894737]\n",
      " [ 0.68421053]\n",
      " [ 0.78947368]\n",
      " [ 0.89473684]\n",
      " [ 1.        ]]\n",
      "y: [[-1.05755067]\n",
      " [-1.16102553]\n",
      " [-1.01362117]\n",
      " [-0.17647415]\n",
      " [-0.56370504]\n",
      " [-0.6647829 ]\n",
      " [-0.31114641]\n",
      " [ 0.36691865]\n",
      " [-0.12184705]\n",
      " [ 0.13252935]\n",
      " [ 0.14268267]\n",
      " [ 0.05221978]\n",
      " [-0.07959756]\n",
      " [ 0.26361824]\n",
      " [ 0.41101594]\n",
      " [ 0.75493433]\n",
      " [ 0.93590555]\n",
      " [ 1.06880431]\n",
      " [ 0.98041304]\n",
      " [ 1.26554235]]\n"
     ]
    }
   ],
   "source": [
    "# training data\n",
    "x = np.linspace(-1, 1, N_SAMPLES)[:, np.newaxis]\n",
    "y = x + 0.3*np.random.randn(N_SAMPLES)[:, np.newaxis]\n",
    "print('x:', x)\n",
    "print('y:', y)"
   ]
  },
  {
   "cell_type": "code",
   "execution_count": 15,
   "metadata": {},
   "outputs": [
    {
     "name": "stdout",
     "output_type": "stream",
     "text": [
      "test_x: [[-1.        ]\n",
      " [-0.89473684]\n",
      " [-0.78947368]\n",
      " [-0.68421053]\n",
      " [-0.57894737]\n",
      " [-0.47368421]\n",
      " [-0.36842105]\n",
      " [-0.26315789]\n",
      " [-0.15789474]\n",
      " [-0.05263158]\n",
      " [ 0.05263158]\n",
      " [ 0.15789474]\n",
      " [ 0.26315789]\n",
      " [ 0.36842105]\n",
      " [ 0.47368421]\n",
      " [ 0.57894737]\n",
      " [ 0.68421053]\n",
      " [ 0.78947368]\n",
      " [ 0.89473684]\n",
      " [ 1.        ]]\n",
      "test_y: [[-1.22631938]\n",
      " [-0.5188764 ]\n",
      " [-0.63559474]\n",
      " [-0.77363838]\n",
      " [-0.43239192]\n",
      " [-0.49635572]\n",
      " [-0.02893224]\n",
      " [ 0.19278715]\n",
      " [ 0.49777789]\n",
      " [-0.47158048]\n",
      " [-0.38060256]\n",
      " [ 0.00655498]\n",
      " [ 0.31116902]\n",
      " [ 0.63127173]\n",
      " [ 0.56837469]\n",
      " [-0.027713  ]\n",
      " [ 0.59234932]\n",
      " [ 1.03786608]\n",
      " [ 0.96376526]\n",
      " [ 1.22860335]]\n"
     ]
    }
   ],
   "source": [
    "# test data\n",
    "test_x = x.copy()\n",
    "test_y = test_x + 0.3*np.random.randn(N_SAMPLES)[:, np.newaxis]\n",
    "print('test_x:', test_x)\n",
    "print('test_y:', test_y)"
   ]
  },
  {
   "cell_type": "code",
   "execution_count": 7,
   "metadata": {},
   "outputs": [
    {
     "data": {
      "image/png": "[encoded data removed]",
      "text/plain": [
       "<matplotlib.figure.Figure at 0xcfa3e8efd0>"
      ]
     },
     "metadata": {},
     "output_type": "display_data"
    }
   ],
   "source": [
    "# show data\n",
    "plt.scatter(x, y, c='magenta', s=50, alpha=0.5, label='train')\n",
    "plt.scatter(test_x, test_y, c='cyan', s=50, alpha=0.5, label='test')\n",
    "plt.legend(loc='upper left')\n",
    "plt.ylim((-2.5, 2.5))\n",
    "plt.show()"
   ]
  },
  {
   "cell_type": "code",
   "execution_count": 8,
   "metadata": {
    "collapsed": true
   },
   "outputs": [],
   "source": [
    "# tf placeholders\n",
    "tf_x = tf.placeholder(tf.float32, [None, 1])\n",
    "tf_y = tf.placeholder(tf.float32, [None, 1])\n",
    "tf_is_training = tf.placeholder(tf.bool, None)  # to control dropout when training and testing"
   ]
  },
  {
   "cell_type": "code",
   "execution_count": 9,
   "metadata": {
    "collapsed": true
   },
   "outputs": [],
   "source": [
    "# overfitting net\n",
    "o1 = tf.layers.dense(tf_x, N_HIDDEN, tf.nn.relu)\n",
    "o2 = tf.layers.dense(o1, N_HIDDEN, tf.nn.relu)\n",
    "o_out = tf.layers.dense(o2, 1)\n",
    "o_loss = tf.losses.mean_squared_error(tf_y, o_out)\n",
    "o_train = tf.train.AdamOptimizer(LR).minimize(o_loss)"
   ]
  },
  {
   "cell_type": "code",
   "execution_count": 10,
   "metadata": {
    "collapsed": true
   },
   "outputs": [],
   "source": [
    "# dropout net\n",
    "d1 = tf.layers.dense(tf_x, N_HIDDEN, tf.nn.relu)\n",
    "d1 = tf.layers.dropout(d1, rate=0.5, training=tf_is_training)   # drop out 50% of inputs\n",
    "d2 = tf.layers.dense(d1, N_HIDDEN, tf.nn.relu)\n",
    "d2 = tf.layers.dropout(d2, rate=0.5, training=tf_is_training)   # drop out 50% of inputs\n",
    "d_out = tf.layers.dense(d2, 1)\n",
    "d_loss = tf.losses.mean_squared_error(tf_y, d_out)\n",
    "d_train = tf.train.AdamOptimizer(LR).minimize(d_loss)"
   ]
  },
  {
   "cell_type": "code",
   "execution_count": 11,
   "metadata": {
    "collapsed": true
   },
   "outputs": [],
   "source": [
    "sess = tf.Session()\n",
    "sess.run(tf.global_variables_initializer())"
   ]
  },
  {
   "cell_type": "code",
   "execution_count": 12,
   "metadata": {
    "collapsed": true
   },
   "outputs": [],
   "source": [
    "plt.ion()   # something about plotting"
   ]
  },
  {
   "cell_type": "code",
   "execution_count": 13,
   "metadata": {},
   "outputs": [
    {
     "data": {
      "image/png": "[encoded data removed]",
      "text/plain": [
       "<matplotlib.figure.Figure at 0xcfa429ae48>"
      ]
     },
     "metadata": {},
     "output_type": "display_data"
    }
   ],
   "source": [
    "for t in range(500):\n",
    "    sess.run([o_train, d_train], {tf_x: x, tf_y: y, tf_is_training: True})  # train, set is_training=True\n",
    "\n",
    "    if t % 10 == 0:\n",
    "        # plotting\n",
    "        plt.cla()\n",
    "        o_loss_, d_loss_, o_out_, d_out_ = sess.run(\n",
    "            [o_loss, d_loss, o_out, d_out], {tf_x: test_x, tf_y: test_y, tf_is_training: False} # test, set is_training=False\n",
    "        )\n",
    "        plt.scatter(x, y, c='magenta', s=50, alpha=0.3, label='train'); plt.scatter(test_x, test_y, c='cyan', s=50, alpha=0.3, label='test')\n",
    "        plt.plot(test_x, o_out_, 'r-', lw=3, label='overfitting'); plt.plot(test_x, d_out_, 'b--', lw=3, label='dropout(50%)')\n",
    "        plt.text(0, -1.2, 'overfitting loss=%.4f' % o_loss_, fontdict={'size': 20, 'color':  'red'}); plt.text(0, -1.5, 'dropout loss=%.4f' % d_loss_, fontdict={'size': 20, 'color': 'blue'})\n",
    "        plt.legend(loc='upper left'); plt.ylim((-2.5, 2.5)); plt.pause(0.1)\n",
    "\n",
    "plt.ioff()\n",
    "plt.show()"
   ]
  },
  {
   "cell_type": "code",
   "execution_count": null,
   "metadata": {
    "collapsed": true
   },
   "outputs": [],
   "source": []
  }
 ],
 "metadata": {
  "kernelspec": {
   "display_name": "Python 3",
   "language": "python",
   "name": "python3"
  },
  "language_info": {
   "codemirror_mode": {
    "name": "ipython",
    "version": 3
   },
   "file_extension": ".py",
   "mimetype": "text/x-python",
   "name": "python",
   "nbconvert_exporter": "python",
   "pygments_lexer": "ipython3",
   "version": "3.5.3"
  }
 },
 "nbformat": 4,
 "nbformat_minor": 2
}
