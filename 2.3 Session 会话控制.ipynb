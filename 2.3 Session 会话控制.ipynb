{
 "cells": [
  {
   "cell_type": "code",
   "execution_count": 2,
   "metadata": {},
   "outputs": [],
   "source": [
    "import tensorflow as tf"
   ]
  },
  {
   "cell_type": "code",
   "execution_count": 5,
   "metadata": {},
   "outputs": [
    {
     "name": "stdout",
     "output_type": "stream",
     "text": [
      "Tensor(\"Const_4:0\", shape=(1, 2), dtype=int32)\n",
      "Tensor(\"Const_5:0\", shape=(2, 1), dtype=int32)\n",
      "Tensor(\"MatMul_1:0\", shape=(1, 1), dtype=int32)\n"
     ]
    }
   ],
   "source": [
    "matrix1 = tf.constant([[3,3]])\n",
    "matrix2 = tf.constant([[2],\n",
    "                      [2]])\n",
    "product = tf.matmul(matrix1, matrix2)   # matrx multiply np.dot(m1.m2)\n",
    "print(matrix1)\n",
    "print(matrix2)\n",
    "print(product)"
   ]
  },
  {
   "cell_type": "code",
   "execution_count": 7,
   "metadata": {},
   "outputs": [
    {
     "name": "stdout",
     "output_type": "stream",
     "text": [
      "[[3 3]]\n",
      "[[2]\n",
      " [2]]\n",
      "[[12]]\n"
     ]
    }
   ],
   "source": [
    "# method 1\n",
    "sess = tf.Session()\n",
    "m1 = sess.run(matrix1)\n",
    "m2 = sess.run(matrix2)\n",
    "result = sess.run(product)\n",
    "print(m1)\n",
    "print(m2)\n",
    "print(result)\n",
    "sess.close()"
   ]
  },
  {
   "cell_type": "code",
   "execution_count": 8,
   "metadata": {},
   "outputs": [
    {
     "name": "stdout",
     "output_type": "stream",
     "text": [
      "[[12]]\n"
     ]
    }
   ],
   "source": [
    "# method 2\n",
    "with tf.Session() as sess:   # 不用sess.result 自动关闭\n",
    "    result2 = sess.run(product)\n",
    "    print(result2)"
   ]
  },
  {
   "cell_type": "code",
   "execution_count": null,
   "metadata": {
    "collapsed": true
   },
   "outputs": [],
   "source": []
  }
 ],
 "metadata": {
  "kernelspec": {
   "display_name": "Python 3",
   "language": "python",
   "name": "python3"
  },
  "language_info": {
   "codemirror_mode": {
    "name": "ipython",
    "version": 3
   },
   "file_extension": ".py",
   "mimetype": "text/x-python",
   "name": "python",
   "nbconvert_exporter": "python",
   "pygments_lexer": "ipython3",
   "version": "3.5.3"
  }
 },
 "nbformat": 4,
 "nbformat_minor": 2
}
